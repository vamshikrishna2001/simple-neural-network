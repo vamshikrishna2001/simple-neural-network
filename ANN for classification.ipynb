{
 "cells": [
  {
   "cell_type": "code",
   "execution_count": 1,
   "metadata": {},
   "outputs": [],
   "source": [
    "import numpy as np\n",
    "from sklearn.datasets import load_iris\n",
    "import pandas as pd"
   ]
  },
  {
   "cell_type": "code",
   "execution_count": 2,
   "metadata": {},
   "outputs": [],
   "source": [
    "df = pd.read_csv(\"P:/tech/datasets/titanic_prep.csv\")"
   ]
  },
  {
   "cell_type": "code",
   "execution_count": 3,
   "metadata": {},
   "outputs": [
    {
     "data": {
      "text/html": [
       "<div>\n",
       "<style scoped>\n",
       "    .dataframe tbody tr th:only-of-type {\n",
       "        vertical-align: middle;\n",
       "    }\n",
       "\n",
       "    .dataframe tbody tr th {\n",
       "        vertical-align: top;\n",
       "    }\n",
       "\n",
       "    .dataframe thead th {\n",
       "        text-align: right;\n",
       "    }\n",
       "</style>\n",
       "<table border=\"1\" class=\"dataframe\">\n",
       "  <thead>\n",
       "    <tr style=\"text-align: right;\">\n",
       "      <th></th>\n",
       "      <th>Unnamed: 0</th>\n",
       "      <th>Survived</th>\n",
       "      <th>Pclass</th>\n",
       "      <th>Age</th>\n",
       "      <th>SibSp</th>\n",
       "      <th>Parch</th>\n",
       "      <th>Fare</th>\n",
       "      <th>Sex_male</th>\n",
       "      <th>Embarked_Q</th>\n",
       "      <th>Embarked_S</th>\n",
       "    </tr>\n",
       "  </thead>\n",
       "  <tbody>\n",
       "    <tr>\n",
       "      <th>0</th>\n",
       "      <td>0</td>\n",
       "      <td>0</td>\n",
       "      <td>3</td>\n",
       "      <td>22.0</td>\n",
       "      <td>1</td>\n",
       "      <td>0</td>\n",
       "      <td>7.2500</td>\n",
       "      <td>1</td>\n",
       "      <td>0</td>\n",
       "      <td>1</td>\n",
       "    </tr>\n",
       "    <tr>\n",
       "      <th>1</th>\n",
       "      <td>1</td>\n",
       "      <td>1</td>\n",
       "      <td>1</td>\n",
       "      <td>38.0</td>\n",
       "      <td>1</td>\n",
       "      <td>0</td>\n",
       "      <td>71.2833</td>\n",
       "      <td>0</td>\n",
       "      <td>0</td>\n",
       "      <td>0</td>\n",
       "    </tr>\n",
       "    <tr>\n",
       "      <th>2</th>\n",
       "      <td>2</td>\n",
       "      <td>1</td>\n",
       "      <td>3</td>\n",
       "      <td>26.0</td>\n",
       "      <td>0</td>\n",
       "      <td>0</td>\n",
       "      <td>7.9250</td>\n",
       "      <td>0</td>\n",
       "      <td>0</td>\n",
       "      <td>1</td>\n",
       "    </tr>\n",
       "    <tr>\n",
       "      <th>3</th>\n",
       "      <td>3</td>\n",
       "      <td>1</td>\n",
       "      <td>1</td>\n",
       "      <td>35.0</td>\n",
       "      <td>1</td>\n",
       "      <td>0</td>\n",
       "      <td>53.1000</td>\n",
       "      <td>0</td>\n",
       "      <td>0</td>\n",
       "      <td>1</td>\n",
       "    </tr>\n",
       "    <tr>\n",
       "      <th>4</th>\n",
       "      <td>4</td>\n",
       "      <td>0</td>\n",
       "      <td>3</td>\n",
       "      <td>35.0</td>\n",
       "      <td>0</td>\n",
       "      <td>0</td>\n",
       "      <td>8.0500</td>\n",
       "      <td>1</td>\n",
       "      <td>0</td>\n",
       "      <td>1</td>\n",
       "    </tr>\n",
       "  </tbody>\n",
       "</table>\n",
       "</div>"
      ],
      "text/plain": [
       "   Unnamed: 0  Survived  Pclass   Age  SibSp  Parch     Fare  Sex_male  \\\n",
       "0           0         0       3  22.0      1      0   7.2500         1   \n",
       "1           1         1       1  38.0      1      0  71.2833         0   \n",
       "2           2         1       3  26.0      0      0   7.9250         0   \n",
       "3           3         1       1  35.0      1      0  53.1000         0   \n",
       "4           4         0       3  35.0      0      0   8.0500         1   \n",
       "\n",
       "   Embarked_Q  Embarked_S  \n",
       "0           0           1  \n",
       "1           0           0  \n",
       "2           0           1  \n",
       "3           0           1  \n",
       "4           0           1  "
      ]
     },
     "execution_count": 3,
     "metadata": {},
     "output_type": "execute_result"
    }
   ],
   "source": [
    "df.head()"
   ]
  },
  {
   "cell_type": "code",
   "execution_count": 4,
   "metadata": {},
   "outputs": [],
   "source": [
    "x = df.drop([\"Survived\",\"Unnamed: 0\"],axis =1).values\n",
    "y = df[\"Survived\"].values"
   ]
  },
  {
   "cell_type": "code",
   "execution_count": 5,
   "metadata": {},
   "outputs": [],
   "source": [
    "from sklearn.model_selection import train_test_split"
   ]
  },
  {
   "cell_type": "code",
   "execution_count": 6,
   "metadata": {},
   "outputs": [],
   "source": [
    "x_train,x_test,y_train,y_test = train_test_split(x,y,test_size = 0.25)"
   ]
  },
  {
   "cell_type": "code",
   "execution_count": 7,
   "metadata": {},
   "outputs": [],
   "source": [
    "from sklearn.preprocessing import MinMaxScaler\n",
    "scaler = MinMaxScaler()\n",
    "x_train = scaler.fit_transform(x_train)\n",
    "x_test = scaler.transform(x_test)"
   ]
  },
  {
   "cell_type": "code",
   "execution_count": 8,
   "metadata": {},
   "outputs": [],
   "source": [
    "class ANNclassifier():\n",
    "    def __init__(self,in_size,out_size,no_examples):\n",
    "        self.in_size = in_size\n",
    "        self.out_size = out_size\n",
    "        self.w = np.random.rand(in_size,out_size)\n",
    "        self.b = np.random.rand(1,1)\n",
    "        self.no_examples = no_examples\n",
    "        \n",
    " \n",
    "\n",
    "    def fit(self,x,y,lr,epochs = 10000,per_epoch = 100):\n",
    "        for i in range(epochs):\n",
    "            cost = 0\n",
    "            ##Forward propagation\n",
    "            z = np.dot(self.w.T,x) + self.b\n",
    "            a = 1/(1+np.exp(-z))\n",
    "            \n",
    "            ##Computing loss\n",
    "            cost = (- 1 / self.no_examples) * np.sum(y * np.log(a) + (1 - y) * (np.log(1 - a))) \n",
    "            \n",
    "            if i%per_epoch == 0:\n",
    "                print(f\"train_loss is{cost}\")\n",
    "            \n",
    "            ##Back propagstion\n",
    "            dw = (1 / self.no_examples) * np.dot(x, (a - y).T)\n",
    "            db = (1 / self.no_examples) * np.sum(a - y) \n",
    "            \n",
    "            ##updating weights\n",
    "            self.w = self.w - lr*dw\n",
    "            self.b = self.b - lr*db\n",
    "        \n",
    "        \n",
    "    def Predict(self,x_test):\n",
    "        \n",
    "        z = np.dot(self.w.T,x_test) + self.b\n",
    "        return 1/(1+np.exp(-z))\n",
    "\n",
    "        \n",
    "        \n",
    "        "
   ]
  },
  {
   "cell_type": "code",
   "execution_count": 9,
   "metadata": {},
   "outputs": [],
   "source": [
    "iris_classifier = ANNclassifier(x.shape[1],1,x.shape[0])"
   ]
  },
  {
   "cell_type": "code",
   "execution_count": 10,
   "metadata": {},
   "outputs": [
    {
     "name": "stdout",
     "output_type": "stream",
     "text": [
      "train_loss is0.8943457790838831\n",
      "train_loss is0.3437479971537183\n",
      "train_loss is0.33697748197255406\n",
      "train_loss is0.3340222478249688\n",
      "train_loss is0.3325936530075297\n",
      "train_loss is0.331862468393187\n",
      "train_loss is0.3314682308616308\n",
      "train_loss is0.3312444186490398\n",
      "train_loss is0.3311105079436952\n",
      "train_loss is0.3310260473855072\n",
      "train_loss is0.33097000467412363\n",
      "train_loss is0.33093106903780883\n",
      "train_loss is0.33090293865374504\n",
      "train_loss is0.33088196462256547\n",
      "train_loss is0.33086594362312455\n",
      "train_loss is0.33085348478833415\n",
      "train_loss is0.3308436699306354\n",
      "train_loss is0.33083586662638736\n",
      "train_loss is0.33082962250610354\n",
      "train_loss is0.3308246035623743\n",
      "train_loss is0.33082055685098083\n",
      "train_loss is0.33081728705328994\n",
      "train_loss is0.33081464114500614\n",
      "train_loss is0.3308124979628585\n",
      "train_loss is0.3308107608390022\n",
      "train_loss is0.33080935223117564\n",
      "train_loss is0.3308082097016113\n",
      "train_loss is0.3308072828409184\n",
      "train_loss is0.3308065308757784\n",
      "train_loss is0.330805920785268\n",
      "train_loss is0.3308054258040774\n",
      "train_loss is0.33080502422525243\n",
      "train_loss is0.3308046984379579\n",
      "train_loss is0.33080443415151556\n",
      "train_loss is0.330804219768171\n",
      "train_loss is0.3308040458752506\n",
      "train_loss is0.3308039048335232\n",
      "train_loss is0.3308037904432953\n",
      "train_loss is0.33080369767343\n",
      "train_loss is0.3308036224413718\n",
      "train_loss is0.33080356143454775\n",
      "train_loss is0.3308035119653542\n",
      "train_loss is0.3308034718534151\n",
      "train_loss is0.3308034393299857\n",
      "train_loss is0.33080341296034427\n",
      "train_loss is0.3308033915807909\n",
      "train_loss is0.3308033742475111\n",
      "train_loss is0.33080336019507217\n",
      "train_loss is0.33080334880274254\n",
      "train_loss is0.3308033395671616\n",
      "train_loss is0.33080333208016605\n",
      "train_loss is0.3308033260107985\n",
      "train_loss is0.3308033210907144\n",
      "train_loss is0.33080331710234406\n",
      "train_loss is0.33080331386929046\n",
      "train_loss is0.33080331124854184\n",
      "train_loss is0.33080330912415634\n",
      "train_loss is0.3308033074021403\n",
      "train_loss is0.3308033060062943\n",
      "train_loss is0.3308033048748467\n",
      "train_loss is0.330803303957722\n",
      "train_loss is0.3308033032143267\n",
      "train_loss is0.33080330261175506\n",
      "train_loss is0.3308033021233328\n",
      "train_loss is0.33080330172743766\n",
      "train_loss is0.33080330140654235\n",
      "train_loss is0.33080330114643974\n",
      "train_loss is0.33080330093561344\n",
      "train_loss is0.3308033007647286\n",
      "train_loss is0.3308033006262186\n",
      "train_loss is0.3308033005139501\n",
      "train_loss is0.33080330042295175\n",
      "train_loss is0.3308033003491939\n",
      "train_loss is0.3308033002894103\n",
      "train_loss is0.33080330024095345\n",
      "train_loss is0.33080330020167736\n",
      "train_loss is0.3308033001698427\n",
      "train_loss is0.3308033001440396\n",
      "train_loss is0.33080330012312525\n",
      "train_loss is0.33080330010617354\n",
      "train_loss is0.33080330009243364\n",
      "train_loss is0.33080330008129694\n",
      "train_loss is0.3308033000722703\n",
      "train_loss is0.33080330006495395\n",
      "train_loss is0.33080330005902386\n",
      "train_loss is0.33080330005421726\n",
      "train_loss is0.3308033000503214\n",
      "train_loss is0.33080330004716374\n",
      "train_loss is0.3308033000446044\n",
      "train_loss is0.3308033000425299\n",
      "train_loss is0.3308033000408485\n",
      "train_loss is0.3308033000394856\n",
      "train_loss is0.33080330003838104\n",
      "train_loss is0.33080330003748565\n",
      "train_loss is0.33080330003676\n",
      "train_loss is0.3308033000361718\n",
      "train_loss is0.3308033000356951\n",
      "train_loss is0.3308033000353086\n",
      "train_loss is0.33080330003499553\n",
      "train_loss is0.33080330003474157\n"
     ]
    }
   ],
   "source": [
    "iris_classifier.fit(x_train.T,y_train.reshape(1,-1),lr=2)"
   ]
  },
  {
   "cell_type": "code",
   "execution_count": 11,
   "metadata": {},
   "outputs": [],
   "source": [
    "y_pred = iris_classifier.Predict(x_test.T)"
   ]
  },
  {
   "cell_type": "code",
   "execution_count": 12,
   "metadata": {},
   "outputs": [],
   "source": [
    "y_pred[y_pred >= 0.5] = 1\n",
    "y_pred[y_pred < 0.5] = 0"
   ]
  },
  {
   "cell_type": "code",
   "execution_count": 13,
   "metadata": {},
   "outputs": [
    {
     "data": {
      "text/plain": [
       "array([[0., 0., 0., 1., 1., 0., 1., 0., 0., 1., 0., 0., 1., 1., 1., 0.,\n",
       "        0., 0., 0., 0., 0., 1., 0., 1., 0., 0., 1., 0., 0., 0., 1., 0.,\n",
       "        0., 1., 1., 0., 0., 1., 0., 0., 0., 0., 0., 0., 0., 1., 0., 1.,\n",
       "        0., 0., 0., 1., 0., 0., 0., 0., 0., 1., 0., 1., 1., 1., 0., 0.,\n",
       "        0., 1., 0., 0., 1., 0., 0., 1., 0., 1., 0., 1., 0., 0., 0., 0.,\n",
       "        1., 0., 1., 1., 0., 0., 1., 1., 1., 1., 0., 1., 1., 1., 0., 0.,\n",
       "        1., 0., 0., 1., 0., 0., 0., 0., 0., 0., 1., 1., 1., 1., 0., 0.,\n",
       "        0., 0., 1., 1., 0., 1., 1., 0., 1., 1., 1., 0., 0., 0., 0., 0.,\n",
       "        1., 0., 1., 0., 0., 0., 0., 0., 1., 0., 1., 0., 0., 0., 0., 0.,\n",
       "        0., 0., 0., 1., 0., 0., 0., 0., 0., 1., 0., 0., 0., 0., 1., 1.,\n",
       "        0., 1., 1., 0., 0., 0., 0., 0., 0., 1., 0., 1., 0., 0., 0., 0.,\n",
       "        0., 0., 0., 0., 1., 1., 0., 0., 0., 1., 0., 1., 0., 0., 0., 0.,\n",
       "        1., 0., 0., 0., 0., 1., 0., 1., 0., 0., 1., 0., 0., 0., 0., 0.,\n",
       "        0., 1., 1., 0., 0., 0., 0., 0., 0., 0., 1., 0., 1., 0., 1.]])"
      ]
     },
     "execution_count": 13,
     "metadata": {},
     "output_type": "execute_result"
    }
   ],
   "source": [
    "y_pred"
   ]
  },
  {
   "cell_type": "code",
   "execution_count": 14,
   "metadata": {},
   "outputs": [
    {
     "data": {
      "text/plain": [
       "array([0, 0, 0, 1, 1, 0, 0, 1, 0, 0, 0, 1, 0, 1, 1, 1, 0, 1, 0, 0, 1, 1,\n",
       "       0, 1, 0, 0, 1, 0, 1, 0, 1, 0, 0, 0, 1, 0, 0, 1, 0, 0, 0, 1, 0, 0,\n",
       "       0, 1, 0, 1, 0, 0, 0, 1, 0, 0, 0, 0, 0, 0, 1, 0, 1, 1, 0, 1, 1, 1,\n",
       "       1, 0, 1, 0, 0, 1, 0, 1, 1, 1, 0, 1, 0, 0, 0, 1, 1, 1, 0, 0, 0, 1,\n",
       "       1, 0, 0, 1, 1, 0, 1, 0, 1, 0, 0, 1, 0, 1, 0, 0, 0, 0, 1, 1, 0, 0,\n",
       "       1, 0, 0, 0, 1, 1, 0, 1, 0, 0, 1, 1, 1, 0, 0, 0, 0, 0, 1, 0, 1, 1,\n",
       "       0, 0, 0, 0, 1, 1, 1, 0, 0, 0, 0, 0, 0, 0, 0, 0, 0, 0, 0, 0, 0, 0,\n",
       "       1, 0, 0, 0, 1, 0, 0, 1, 1, 0, 0, 0, 0, 0, 0, 1, 0, 0, 0, 0, 1, 0,\n",
       "       0, 0, 0, 0, 1, 1, 0, 0, 0, 1, 0, 1, 0, 0, 0, 0, 1, 0, 0, 1, 0, 1,\n",
       "       0, 0, 1, 0, 1, 0, 1, 0, 0, 1, 0, 1, 0, 0, 1, 0, 1, 0, 0, 0, 1, 1,\n",
       "       1, 0, 1], dtype=int64)"
      ]
     },
     "execution_count": 14,
     "metadata": {},
     "output_type": "execute_result"
    }
   ],
   "source": [
    "y_test"
   ]
  },
  {
   "cell_type": "code",
   "execution_count": 15,
   "metadata": {},
   "outputs": [],
   "source": [
    "from sklearn.metrics import confusion_matrix,accuracy_score"
   ]
  },
  {
   "cell_type": "code",
   "execution_count": 16,
   "metadata": {},
   "outputs": [
    {
     "data": {
      "text/plain": [
       "array([[121,  28],\n",
       "       [ 19,  55]], dtype=int64)"
      ]
     },
     "execution_count": 16,
     "metadata": {},
     "output_type": "execute_result"
    }
   ],
   "source": [
    "confusion_matrix(y_pred.reshape(-1,1),y_test.reshape(-1,1))"
   ]
  },
  {
   "cell_type": "code",
   "execution_count": 17,
   "metadata": {},
   "outputs": [
    {
     "data": {
      "text/plain": [
       "0.7892376681614349"
      ]
     },
     "execution_count": 17,
     "metadata": {},
     "output_type": "execute_result"
    }
   ],
   "source": [
    "accuracy_score(y_pred.reshape(-1,1),y_test.reshape(-1,1))"
   ]
  }
 ],
 "metadata": {
  "kernelspec": {
   "display_name": "Python 3",
   "language": "python",
   "name": "python3"
  },
  "language_info": {
   "codemirror_mode": {
    "name": "ipython",
    "version": 3
   },
   "file_extension": ".py",
   "mimetype": "text/x-python",
   "name": "python",
   "nbconvert_exporter": "python",
   "pygments_lexer": "ipython3",
   "version": "3.7.7"
  }
 },
 "nbformat": 4,
 "nbformat_minor": 4
}
